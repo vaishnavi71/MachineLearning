{
 "cells": [
  {
   "cell_type": "markdown",
   "id": "99185530",
   "metadata": {},
   "source": [
    "# Question 4"
   ]
  },
  {
   "cell_type": "code",
   "execution_count": 1,
   "id": "50449e7e",
   "metadata": {},
   "outputs": [
    {
     "name": "stdout",
     "output_type": "stream",
     "text": [
      "Accuracy: 0.885\n",
      "Precision: 0.883303765030554\n",
      "Recall: 0.8892637428061123\n",
      "F1 Score: 0.8862737341772151\n",
      "Review: I got this DVD from a friend, who got it from someone else (and that probably keeps going on..) Even the cover of the DVD looks cheap, as is the entire movie. Gunshots and fist fights with delayed sound effects, some of the worst actors I´ve seen in my life, a very simple plot, it made me laugh ´till my stomach hurt! With very few financial resources, I must admit it looked pretty professional. Seen as a movie, it was one of the 13 in a dozen wannabe gangsta flicks nobody´s waiting for. So: if you´re tired and want a cheap laugh, see this movie. If not, throw it out of the window.\n",
      "Prediction: negative\n",
      "\n",
      "Review: 'It's easy to kill a monster, but it's hard to kill a human being.'<br /><br />Set in St. Thomas Housing Project and Angola Prison in New Orleans, \"Dead Man Walking\" is the true story of Helen Prejean (Susan Sarandon), a Louisiana nun Sister who befriended Matthew Poncelet (Sean Penn), a murderer and a rapist bound for a lethal injection machine for killing a teenage couple",
      " Sister Helen agrees to help the convict and to remain with him till the endan act never before attempted by a woman",
      " <br /><br />At their first meeting, Poncelet swears to the nun that his accomplice was the one who shot both of the kids and pleads her help for a new trial in order to convince the pardon board hearing to spare his life",
      " <br /><br />The film challenges the audience to actually give some thought to the human consequences of the death penalty, but gives voice to angry bereaved parents whose kids were shot, stabbed, raped, and left in the woods to die alone",
      " <br /><br />As Poncelet's execution looms closer and closer, his character is seen deceptively complex, harboring doubts about the rightness of what they were doing to him",
      " In one moment, we hear him sensitive asking for a lie detector test to let his mother know that he is innocent, in another we see him furious playing the victim, blaming the government, drugs, blacks, the kids for being there",
      " Poncelet never understood that he has robbed the Percys and the Delacroixs so much, giving them nothing but sorrow",
      " They are never going to see their children again, never going to hold them, to love them, to laugh with them",
      " <br /><br />In the scenes leading up to his execution, the death-row inmate drops his terrible facade and reveals his identity",
      " Luckily both Sarandon and Penn are here exceptionalcarrying out successfully an exquisite, tangible harmony of souls",
      " When Sarandon was looking at Penn, she was projecting compassionate eyes brimming with tears",
      " She asks him to visualize her as he dies ''I want the last thing you see in this world to be the face of love''in that moment, we truly believed that she'll be the face of love for him",
      "\n",
      "Prediction: positive\n",
      "\n",
      "Review: This film is bad. It's filled with glaring plot holes, characters who are ruled by stupidity, bad acting and above all, a poor script which has been done before in many, many films, only better. I feel sorry for Donald Sutherland, I just hope he had to do this film rather than wanted to! Miss it.\n",
      "Prediction: negative\n",
      "\n",
      "Review: ........and an extremely bad one at that!!! How long did this train-wreck last?? 14 episodes or something?? I can see why now.<br /><br />I bought the \"Serenity\" episode from Amazon Unboxed. It was my first purchase, so was free. That is the ONLY good thing about the experience (incident??)<br /><br />I won't comment really on the acting, since these were, I guess, fairly new people who hadn't really gotten the job down just right yet. At least I've never seen them before in any type of major show, theater or TV. If I did, then I have easily forgotten them.<br /><br />But the special effects were absolutely horrendous. True, this isn't exactly a multi-million $$ project, but the original Star Trek did better than this & that was THIRTY-FIVE YEARS ago. I especially got a laugh out of the bad guys (reapers or something like that) ship as it chased the hilarious looking Firefly, with smoke coming out of the engines looking something like a gigantic model rocket. I fully expected to eventually see the Wiley Coyote riding on top, while chasing after the Roadrunner. MODERN jet/rocket engines don't even do it that bad.<br /><br />And that wasn't even the worst of it. The wild-west type shoot-outs had me wondering if I was actually watching a sci-fi film or a Gene Autry one.<br /><br />Regardless of the hype, don't waste your time...I did...all 80-something minutes of the disaster called \"Firefly\".\n",
      "Prediction: negative\n",
      "\n",
      "Review: Everything that you need to know about the pornography of the late 70s and early 80s is all wrapped up in Paul Thomas Anderson's BOOGIE NIGHTS. Although the film is completely fictional, it is actually supposedly based on the story of porno kingpin John Holmes.<br /><br />In Southern California in 1977, Eddie Adams (Mark Wahlberg) is working as a busboy in a nightclub. One of the regular customers is pornographer Jack Horner (Burt Reynolds) and two of his starlets, Amber Waves (Julianne Moore) and Rollergirl (Heather Graham). Jack and Eddie meet and Jack realizes that Eddie is well...a little...gifted.<br /><br />So Eddie stars in Jack's films under the pseudonym of \"Dirk Diggler.\" He becomes a \"big\" porno star (no pun intended) and seems to be on top of everything. Then comes the 80s when video replaces film and Jack's porno empire begins to collapse, along with Dirk Diggler and everybody else working in the field.<br /><br />BOOGIE NIGHTS is a really well-filmed drama. There is a little bit of violence, but P.T. Anderson makes it more stylized. And it kind of is a scathing approach to the degradations of pornography, especially when VHS became the standard medium for making pornos.<br /><br />A lot of bizarre and unique characters are introduced. William H. Macy has an interesting role as someone working on the films, whose wife keeps having sex with everybody. I especially liked Don Cheadle's role as Buck the stereo salesman. The best performance is BOOGIE NIGHTS was definitely Burt Reynolds. A 90s classic!\n",
      "Prediction: positive\n",
      "\n"
     ]
    }
   ],
   "source": [
    "import pandas as pd\n",
    "from sklearn.model_selection import train_test_split\n",
    "from sklearn.feature_extraction.text import CountVectorizer\n",
    "from sklearn.linear_model import LogisticRegression\n",
    "from sklearn import metrics\n",
    "\n",
    "imdbdata = pd.read_csv('/Users/Shivanibommagani/OneDrive/Desktop/IMDBDataset.csv')\n",
    "imdbXtr, imdbXte, imdbytr, imdbyte = train_test_split(imdbdata['review'], imdbdata['sentiment'], test_size=0.2, random_state=42)\n",
    "\n",
    "vect = CountVectorizer(binary=True)\n",
    "imdbXtr_bow = vect.fit_transform(imdbXtr)\n",
    "imdbXte_bow = vect.transform(imdbXte)\n",
    "\n",
    "classifier = LogisticRegression(max_iter=1000)\n",
    "classifier.fit(imdbXtr_bow, imdbytr)\n",
    "\n",
    "imdbypred = classifier.predict(imdbXte_bow)\n",
    "\n",
    "imdbypred_binary = pd.Series(imdbypred).map({'negative': 0, 'positive': 1})\n",
    "\n",
    "imdbyte_binary = imdbyte.map({'negative': 0, 'positive': 1})\n",
    "\n",
    "a = metrics.accuracy_score(imdbyte_binary, imdbypred_binary)\n",
    "p = metrics.precision_score(imdbyte_binary, imdbypred_binary)\n",
    "r = metrics.recall_score(imdbyte_binary, imdbypred_binary)\n",
    "f1 = metrics.f1_score(imdbyte_binary, imdbypred_binary)\n",
    "\n",
    "print(f\"Accuracy: {a}\")\n",
    "print(f\"Precision: {p}\")\n",
    "print(f\"Recall: {r}\")\n",
    "print(f\"F1 Score: {f1}\")\n",
    "\n",
    "imdbsample_reviews = imdbXte.sample(n=5)\n",
    "imdbsample_bow = vect.transform(imdbsample_reviews)\n",
    "imdbsample_predictions = classifier.predict(imdbsample_bow)\n",
    "\n",
    "for review, prediction in zip(imdbsample_reviews, imdbsample_predictions):\n",
    "    print(f\"Review: {review}\")\n",
    "    print(f\"Prediction: {prediction}\\n\")\n"
   ]
  },
  {
   "cell_type": "markdown",
   "id": "7e7c31c8",
   "metadata": {},
   "source": [
    "# Question 11"
   ]
  },
  {
   "cell_type": "code",
   "execution_count": 2,
   "id": "7c47aeb2",
   "metadata": {},
   "outputs": [
    {
     "name": "stdout",
     "output_type": "stream",
     "text": [
      "Vocabulary Size: 261\n",
      "Number of Possible Feature Combinations: 3705346855594118253554271520278013051304639509300498049262642688253220148477952\n"
     ]
    }
   ],
   "source": [
    "import pandas as pd\n",
    "from sklearn.feature_extraction.text import CountVectorizer\n",
    "\n",
    "cr_data = pd.read_csv('/Users/Shivanibommagani/OneDrive/Desktop/redmi6.csv', encoding='ISO-8859-1')\n",
    "\n",
    "vect = CountVectorizer(binary=True)\n",
    "crX_bow = vect.fit_transform(cr_data['Review Title'])\n",
    "\n",
    "vocabularysize = len(vect.get_feature_names_out())\n",
    "\n",
    "numberoffeaturecombinations = 2 ** vocabularysize\n",
    "\n",
    "print(f\"Vocabulary Size: {vocabularysize}\")\n",
    "print(f\"Number of Possible Feature Combinations: {numberoffeaturecombinations}\")"
   ]
  },
  {
   "cell_type": "markdown",
   "id": "7baae2be",
   "metadata": {},
   "source": [
    "# Question 12"
   ]
  },
  {
   "cell_type": "code",
   "execution_count": 3,
   "id": "48da0639",
   "metadata": {},
   "outputs": [
    {
     "name": "stdout",
     "output_type": "stream",
     "text": [
      "Unique classes in y_train: [0 1]\n",
      "Shape of log_likelihood_spam: (1, 30330)\n",
      "Shape of log_likelihood_ham: (1, 30330)\n",
      "Feature: __\n",
      "Log-Likelihood (spam): [-6.00881319 -6.00881319 -4.21705372 ... -5.315666   -5.315666\n",
      " -5.315666  ]\n",
      "Log-Likelihood (ham): [-6.50078904 -6.90625415 -7.59940133 ... -7.59940133 -7.59940133\n",
      " -7.59940133]\n",
      "\n"
     ]
    }
   ],
   "source": [
    "import pandas as pd\n",
    "from sklearn.feature_extraction.text import CountVectorizer\n",
    "from sklearn.naive_bayes import BernoulliNB\n",
    "import numpy as np\n",
    "\n",
    "\n",
    "data = pd.read_csv('/Users/Shivanibommagani/OneDrive/Desktop/spam_or_not_spam.csv')\n",
    "\n",
    "data['email'].fillna('', inplace=True)\n",
    "\n",
    "\n",
    "from sklearn.model_selection import train_test_split\n",
    "X_train, X_test, y_train, y_test = train_test_split(data['email'], data['label'], test_size=0.2, random_state=42)\n",
    "print(\"Unique classes in y_train:\", np.unique(y_train))\n",
    "\n",
    "\n",
    "vectorizer = CountVectorizer(binary=True, min_df=1, max_df=0.95)\n",
    "\n",
    "X_train_bow = vectorizer.fit_transform(X_train)\n",
    "X_test_bow = vectorizer.transform(X_test)\n",
    "\n",
    "alpha = 1.0  \n",
    "model = BernoulliNB(alpha=alpha)\n",
    "model.fit(X_train_bow, y_train)\n",
    "\n",
    "feature_names = vectorizer.get_feature_names_out()\n",
    "\n",
    "log_likelihood_spam = model.feature_log_prob_[model.classes_ == model.classes_[1]]\n",
    "log_likelihood_ham = model.feature_log_prob_[model.classes_ == model.classes_[0]]\n",
    "\n",
    "print(\"Shape of log_likelihood_spam:\", log_likelihood_spam.shape)\n",
    "print(\"Shape of log_likelihood_ham:\", log_likelihood_ham.shape)\n",
    "\n",
    "for i, (spam_log_likelihood, ham_log_likelihood) in enumerate(zip(log_likelihood_spam, log_likelihood_ham)):\n",
    "    feature = feature_names[i]\n",
    "    print(f\"Feature: {feature}\")\n",
    "    print(f\"Log-Likelihood (spam): {spam_log_likelihood}\")\n",
    "    print(f\"Log-Likelihood (ham): {ham_log_likelihood}\\n\")\n",
    "\n"
   ]
  },
  {
   "cell_type": "markdown",
   "id": "2949deed",
   "metadata": {},
   "source": [
    "# Question 13"
   ]
  },
  {
   "cell_type": "code",
   "execution_count": 4,
   "id": "66908955",
   "metadata": {},
   "outputs": [
    {
     "name": "stdout",
     "output_type": "stream",
     "text": [
      "Review: sydney return for henin-hardenne olympic champion justine henin-hardenne will return to action in january s sydney international tournament.  the belgian has not competed since losing her top world ranking at the us open in september  where she was beaten in the fourth round by nadia petrova. she took time out to shake off a virus but will defend her titles in sydney and at the australian open. women s world number one lindsay davenport and french open champion anastasia myskina will also compete.  in the men s event  world number three lleyton hewitt returns to defend his title  along with runner-up carlos moya. moya  spain s davis cup final hero in their recent win over the us  had to retire with an ankle injury in the first set of the final.  tournament director craig watson said:  i had a message relayed to me from him after spain s davis cup victory  saying he was looking forward to trying to make up for his disappointment in the (2004) final. the tournament will take place from 9-15 january.\n",
      "Prediction: sport\n",
      "\n",
      "Review: robben and cole earn chelsea win cheslea salvaged a win against a battling portsmouth side just as it looked like the premiership leaders would have to settle for a point.  arjen robben curled in a late deflected left-footed shot from the right side of pompey s box to break the home side s brave resistance. chelsea had been continually frustrated but joe cole added a second with a 20-yard shot in injury-time. nigel quashie had pompey s best chance when his effort was tipped over. the fratton park crowd were in good voice as usual and  even though portsmouth more than held their own  chelsea still managed to carve out two early chances. striker didier drogba snapped in an angled shot to force home keeper shaka hislop into a smart save while an unmarked frank lampard had a strike blocked by arjan de zeeuw. but pompey chased  harried and unsettled a chelsea side as the south-coast side started to gain the upper hand and almost took the lead through quashie.  the midfielder struck a swerving long range shot which keeper petr cech tipped over at full stretch. pompey stretched arsenal to the limit recently and were providing a similarly tough obstacle to overcome for a chelsea team struggling to exert any pressure. velimir zajec s players stood firm as the visitors came out in lively fashion after the break but  just as they took a stranglehold of the match  the visitors launched a counter-attack. drogba spun to get a sight of goal and struck a fierce shot which rocked keeper hislop back as he blocked before arjan de zeeuw cleared the danger.  the home side were also left breathing a sigh of relief when a glen johnson header fell to gudjohnsen who had his back to goal in a crowded pompey goalmouth. the icelandic forward tried to acrobatically direct the ball into goal but put his effort over. but  just like against arsenal  portsmouth let in a late goal when robben s shot took a deflection off matthew taylor on its way past a wrong-footed hislop. and cole put a bit of gloss on a hard-fought win when he put a low shot into the bottom of the pompey net.  hislop  griffin  primus  de zeeuw  taylor  stone (cisse 76)  quashie (berkovic 83)  faye  o neil  kamara (fuller 65)  yakubu.  subs not used: berger  ashdown.  kamara.  cech  paulo ferreira  gallas  terry  johnson  duff  makelele  smertin (cole 73)  lampard  robben (geremi 81)  drogba (gudjohnsen 58).  subs not used: cudicini  bridge.  paulo ferreira  robben  lampard.  robben 79  cole 90.  20 210  a wiley (staffordshire).\n",
      "Prediction: sport\n",
      "\n",
      "Review: fast lifts rise into record books two high-speed lifts at the world s tallest building have been officially recognised as the planet s fastest.  the lifts take only 30 seconds to whisk passengers to the top of the 508m tall tfc 101 tower in taipei  taiwan. the guinness book of records has declared the 17m per second speed of the two lifts the swiftest on earth. the lifts also have a pressure control system to stop passengers  ears popping as they ascend and descend at high speed.  in total  the tfc tower has 61 lifts  34 of them double-deckers  and 50 escalators to shuttle people around its 106 floors. the tfc 101 tower is due to be officially opened on 31 december.  the super-fast lifts can speed up to 24 passengers to the tip of the tower in about 30 seconds  while ascending their 382m track. the 17m/s top speed of the lifts translates to about 38mph (61km/h). curiously the lifts take longer to descend and spend almost a whole minute returning to ground level from the top of the tfc tower. the key new technologies applied in the world s fastest elevators include:    - a pressure control system  which adjusts the atmospheric pressure inside a car by using suction and discharge blowers  preventing  ear popping    - an active control system which tries to balance the lift more finely and remove the sources of vibrations   - streamlined cars to reduce the whistling noise produced by running the lifts at a high speed inside a narrow shaft      the certification of our elevators as world record-holders by the authoritative guinness world records is a great honour for us   said masayuki shimono  president of manufacturer toshiba elevator and building systems which installed the lifts. the first record for the world s fastest passenger elevators was published in the first edition of the guinness book of records in 1955.  as such  it is an interesting indicator of how technology has advanced in the 50 years since that first edition  when the record was 426m per minute  or 25.6 km/h  less than half the speed of the new record   said hein le roux  specialist researcher at the guinness world records. taipei s tfc 101 tower is more than 50m taller than the petronas towers in kuala lumpur  malaysia - formerly the world s tallest skyscraper.\n",
      "Prediction: business\n",
      "\n",
      "Review: llewellyn plans wales retirement wales record cap holder gareth llewellyn will retire from test rugby at the end of the six nations.  the veteran lock  who is 36 at the end of february  told bbc wales scrum v that it is time for him to bring down the curtain on his 92-cap wales career. llewellyn is on a one-season deal with french club side narbonne  but said he may consider retiring from all rugby.  i don t know what i ll do next year  whether to carry on playing or make a change in my career   llewellyn said.  narbonne are really keen for me to stay on for next year  so i ve got to decide whether to stay on there or maybe go somewhere else  but ultimitely coaching is where i d like to end up.  i ve done all the coaching awards and everything you can do in that respect  so it s just hopefully getting a chance somewhere.  fellow locks robert sidoli and brent cockbain  who both scored tries in saturday s six nations win in italy  are wales coach mike ruddock s preferred starters in the second row.  with the resurgence of the dragons  ian gough and the adaptibility of lock-cum-flanker jon thomas on the bench  llewellyn has not yet made a match-day squad this six nations campaign. but the former neath and ospreys player is still targetting one last outing in the red shirt.  if i do get on the field then brilliant  although the boys are doing really well and i m very pleased for them   llewellyn added.  we ve had some really tough years in wales and the players have been through a hell of a lot.  sometimes the easiest thing would have been to throw the towel in and walk away  but a few of us dug in there and it s really nice to see some of the boys getting the rewards now.  i was going to retire at the end of the last six nations  i d even told some of the boys in the squad about it.  but mike (ruddock) asked me to carry on for another season  which i ve done  still part of the squad  still trying to help them out as much as i can.  llewellyn made his wales debut in 1989 against new zealand as a 20-year-old  having caught the selectors  eyes in the all blacks  tour match against neath. the 6ft 6in player has not looked back since  going on to break neil jenkins  wales cap record on 12 june 2004 in the 50-44 loss in argentina.   there s been lots of highs - winning the six nations in  94  beating england in  93  i ve been on some great tours and seen some fantastic countries   llewellyn said.  but i think the best thing of all for me was the time i spent with the players  i ve met some great guys in rugby and made some great friends.  it ll be a bit strange on international days having to find somewhere to watch wales play  but at least i might have time to get my golf handicap down!  llewellyn captained neath for seven seasons  while being an integral part of the neath-swansea ospreys regional side s first season. but with the ospreys building for the future  llewellyn was eventually forced to look to france for employment - digging in his heels during contract negotiations to insist he must be allowed to play for wales.\n",
      "Prediction: sport\n",
      "\n",
      "Review: mild winter drives us oil down 6% us oil prices have fallen by 6%  driven down by forecasts of a mild winter in the densely populated northeast.  light crude oil futures fell $2.86 to $41.32 a barrel on the new york mercantile exchange (nymex)  and have now lost $4 in five days. nonetheless  us crude is still 30% more expensive than at the beginning of 2004  boosted by growing demand and bottlenecks at refineries. traders ignored the possible effects of asia s tidal waves on global supplies.  instead  the focus is now on us consumption  which is heavily influenced in the short term by the weather.  with the revised milder temperatures... i m more inclined to think we ll push lower and test the $40-40.25 range   said john brady of abn amro.  the market definitely feels to be on the defensive.  statistics released last week showed that stockpiles of oil products in the us had risen  an indication that severe supply disruptions may not arise this winter  barring any serious incident. oil prices have broken records in 2004  topping $50 a barrel at one point  driven up by a welter of worries about unrest in iraq and saudi arabia  rising demand and supply bottlenecks. london s international petroleum exchange remained closed for the christmas holiday.\n",
      "Prediction: business\n",
      "\n",
      "Accuracy: 0.9563758389261745\n",
      "Precision: [0.88235294 1.         0.98076923 1.         0.95833333]\n",
      "Recall: [1.         0.86206897 0.91071429 1.         1.        ]\n",
      "F1 Score: [0.9375     0.92592593 0.94444444 1.         0.9787234 ]\n",
      "Classification Report:\n",
      "              precision    recall  f1-score   support\n",
      "\n",
      "           0       0.88      1.00      0.94        75\n",
      "           1       1.00      0.86      0.93        58\n",
      "           2       0.98      0.91      0.94        56\n",
      "           3       1.00      1.00      1.00        63\n",
      "           4       0.96      1.00      0.98        46\n",
      "\n",
      "    accuracy                           0.96       298\n",
      "   macro avg       0.96      0.95      0.96       298\n",
      "weighted avg       0.96      0.96      0.96       298\n",
      "\n"
     ]
    }
   ],
   "source": [
    "import pandas as pd\n",
    "from sklearn.model_selection import train_test_split\n",
    "from sklearn.feature_extraction.text import CountVectorizer\n",
    "from sklearn.naive_bayes import BernoulliNB\n",
    "from sklearn.metrics import accuracy_score, precision_score, recall_score, f1_score, classification_report\n",
    "\n",
    "newsdata = pd.read_csv('/Users/Shivanibommagani/OneDrive/Desktop/BBCNewsTrain.csv')\n",
    "\n",
    "newsXtr, newsXte, newsytr, newsyte = train_test_split(newsdata['Text'], newsdata['Category'], test_size=0.2, random_state=42)\n",
    "\n",
    "# Vectorize the text data\n",
    "vect = CountVectorizer(binary=True)\n",
    "newsXtr_bow = vect.fit_transform(newsXtr)\n",
    "newsXte_bow = vect.transform(newsXte)\n",
    "\n",
    "\n",
    "model = BernoulliNB()\n",
    "model.fit(newsXtr_bow, newsytr)\n",
    "newssample_reviews = newsXte.sample(n=5)\n",
    "newssample_bow = vect.transform(newssample_reviews)\n",
    "newssample_predictions = model.predict(newssample_bow)\n",
    "\n",
    "for review, prediction in zip(newssample_reviews, newssample_predictions):\n",
    "    print(f\"Review: {review}\")\n",
    "    print(f\"Prediction: {prediction}\\n\")\n",
    "\n",
    "\n",
    "newsypred = model.predict(newsXte_bow)\n",
    "newsypred = pd.Series(newsypred).map({'business': 0, 'tech': 1,'politics':2,'sport':3,'entertainment':4})\n",
    "newsyte= newsyte.map({'business': 0, 'tech': 1,'politics':2,'sport':3,'entertainment':4})\n",
    "\n",
    "a = accuracy_score(newsyte, newsypred)\n",
    "p = precision_score(newsyte, newsypred, average=None)  # For binary classification\n",
    "r = recall_score(newsyte, newsypred, average=None)\n",
    "f1 = f1_score(newsyte, newsypred, average=None)\n",
    "\n",
    "print(f\"Accuracy: {a}\")\n",
    "print(f\"Precision: {p}\")\n",
    "print(f\"Recall: {r}\")\n",
    "print(f\"F1 Score: {f1}\")\n",
    "\n",
    "print(\"Classification Report:\")\n",
    "print(classification_report(newsyte, newsypred))\n"
   ]
  },
  {
   "cell_type": "code",
   "execution_count": null,
   "id": "2becf460",
   "metadata": {},
   "outputs": [],
   "source": []
  }
 ],
 "metadata": {
  "kernelspec": {
   "display_name": "Python 3 (ipykernel)",
   "language": "python",
   "name": "python3"
  },
  "language_info": {
   "codemirror_mode": {
    "name": "ipython",
    "version": 3
   },
   "file_extension": ".py",
   "mimetype": "text/x-python",
   "name": "python",
   "nbconvert_exporter": "python",
   "pygments_lexer": "ipython3",
   "version": "3.9.12"
  }
 },
 "nbformat": 4,
 "nbformat_minor": 5
}
